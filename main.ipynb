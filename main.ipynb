{
 "cells": [
  {
   "cell_type": "markdown",
   "source": [
    "## Hello!\n",
    "### Welcome to the _jupyter_ notebook testing and learning area\n",
    "\n",
    "I might put this up on [**Github**](https://www.github.com) who knows (_probably not_).\n",
    "\n",
    "#### Goals:\n",
    "* get jupyter notebook working in **pycharm**\n",
    "* learn **markdown**\n",
    "* practice some python coding exercises (possible keep track of interview questions here)\n",
    "\n",
    "time for some _code_..."
   ],
   "metadata": {
    "collapsed": false,
    "pycharm": {
     "name": "#%% md\n"
    }
   }
  },
  {
   "cell_type": "code",
   "execution_count": 2,
   "outputs": [
    {
     "name": "stdout",
     "output_type": "stream",
     "text": [
      "today is 2021-01-21 15:56:27.509218\n"
     ]
    }
   ],
   "source": [
    "import datetime\n",
    "today = datetime.datetime.now()\n",
    "print('today is {}'.format(today))"
   ],
   "metadata": {
    "collapsed": false,
    "pycharm": {
     "name": "#%%\n"
    }
   }
  },
  {
   "cell_type": "markdown",
   "source": [
    "Let's try generating **the list of all 2-tuples** from a list of two elements"
   ],
   "metadata": {
    "collapsed": false,
    "pycharm": {
     "name": "#%% md\n"
    }
   }
  },
  {
   "cell_type": "code",
   "execution_count": 5,
   "outputs": [
    {
     "name": "stdout",
     "output_type": "stream",
     "text": [
      "[[0, 0], [1, 0], [0, 1], [1, 1]]\n"
     ]
    }
   ],
   "source": [
    "list_of_two = list(range(2))\n",
    "list_of_two_tuples = [[x, y] for y in list_of_two for x in list_of_two]\n",
    "print(list_of_two_tuples)"
   ],
   "metadata": {
    "collapsed": false,
    "pycharm": {
     "name": "#%%\n"
    }
   }
  },
  {
   "cell_type": "markdown",
   "source": [
    "That was easier than expected, we can easily reuse this method for a list of varaible size.\n",
    "Is there a way to do this for **a variable size of tuples**?\n",
    "\n",
    "Next lets try generating all the subsets of a set\n",
    "\n",
    "_I think this is where I will need to use for loops instead of list comprehension_"
   ],
   "metadata": {
    "collapsed": false,
    "pycharm": {
     "name": "#%% md\n"
    }
   }
  },
  {
   "cell_type": "code",
   "execution_count": 26,
   "outputs": [
    {
     "name": "stdout",
     "output_type": "stream",
     "text": [
      "[[], [0], [1], [0, 0], [0, 1], [1, 0], [1, 1]]\n",
      "[[], [0], [1], [2], [0, 0], [0, 1], [0, 2], [1, 0], [1, 1], [1, 2], [2, 0], [2, 1], [2, 2], [0, 0, 0], [0, 0, 1], [0, 0, 2], [0, 1, 0], [0, 1, 1], [0, 1, 2], [0, 2, 0], [0, 2, 1], [0, 2, 2], [1, 0, 0], [1, 0, 1], [1, 0, 2], [1, 1, 0], [1, 1, 1], [1, 1, 2], [1, 2, 0], [1, 2, 1], [1, 2, 2], [2, 0, 0], [2, 0, 1], [2, 0, 2], [2, 1, 0], [2, 1, 1], [2, 1, 2], [2, 2, 0], [2, 2, 1], [2, 2, 2]]\n"
     ]
    }
   ],
   "source": [
    "set_of_two = list(range(2))\n",
    "# we start off the the empty subset\n",
    "def all_permutations(s):\n",
    "    ps = [[]]\n",
    "    tmp = [[]]\n",
    "    for n in range(len(s)):\n",
    "        tmp = [x+[y] for x in tmp for y in s]\n",
    "        ps += tmp\n",
    "    return ps\n",
    "print(all_permutations(set_of_two))\n",
    "print(all_permutations(list(range(3))))"
   ],
   "metadata": {
    "collapsed": false,
    "pycharm": {
     "name": "#%%\n"
    }
   }
  },
  {
   "cell_type": "markdown",
   "source": [
    "So we got something different from what we wanted initially.\n",
    "This generates all permutations of the elements from the initial set of varying length\n",
    "all less than the size of the original set.\n",
    "\n",
    "(To get the result we wanted would only require us to filter out the \"duplicates\", this can easily be done by converting\n",
    "the elements of the list to sets then go through the list once and remove duplicates)\n",
    "\n",
    "What would be the complexity of such an operation?\n",
    "_TBD_ (probably $$O(n^n)$$?)\n"
   ],
   "metadata": {
    "collapsed": false,
    "pycharm": {
     "name": "#%% md\n"
    }
   }
  },
  {
   "cell_type": "code",
   "execution_count": 28,
   "outputs": [
    {
     "name": "stdout",
     "output_type": "stream",
     "text": [
      "[[], [0], [1], [0, 1]]\n",
      "[[], [0], [1], [0, 1], [2], [0, 2], [1, 2], [0, 1, 2]]\n"
     ]
    }
   ],
   "source": [
    "# An alternate (the correct) method\n",
    "\n",
    "def power_set(s):\n",
    "    ps = [[]]\n",
    "    for x in s:\n",
    "        ps = ps + [y + [x] for y in ps]\n",
    "    return ps\n",
    "\n",
    "print(power_set(list(range(2))))\n",
    "print(power_set(list(range(3))))"
   ],
   "metadata": {
    "collapsed": false,
    "pycharm": {
     "name": "#%%\n"
    }
   }
  },
  {
   "cell_type": "markdown",
   "source": [
    "Here we go. This should be the correct method for generating the power set. It gives no duplicates.\n",
    "The complexity of this operation should be $O(n*2^n)$"
   ],
   "metadata": {
    "collapsed": false,
    "pycharm": {
     "name": "#%% md\n"
    }
   }
  }
 ],
 "metadata": {
  "kernelspec": {
   "display_name": "Python 3",
   "language": "python",
   "name": "python3"
  },
  "language_info": {
   "codemirror_mode": {
    "name": "ipython",
    "version": 2
   },
   "file_extension": ".py",
   "mimetype": "text/x-python",
   "name": "python",
   "nbconvert_exporter": "python",
   "pygments_lexer": "ipython2",
   "version": "2.7.6"
  }
 },
 "nbformat": 4,
 "nbformat_minor": 0
}